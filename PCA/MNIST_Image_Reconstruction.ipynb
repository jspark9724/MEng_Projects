{
 "cells": [
  {
   "cell_type": "markdown",
   "metadata": {
    "id": "OTpnyUEJrAjE"
   },
   "source": [
    "# PCA Project\n",
    "\n",
    "In this project we work on Fashion MNIST Dataset."
   ]
  },
  {
   "cell_type": "markdown",
   "metadata": {
    "id": "fUdJ6xw3rJIG"
   },
   "source": [
    "\n",
    "*   **Name**: Jun Sung Park\n",
    "\n"
   ]
  },
  {
   "cell_type": "markdown",
   "metadata": {
    "id": "E7G71cUXi9Xr"
   },
   "source": [
    "# Fashion-MNIST dataset\n",
    "Fashion-MNIST is a dataset for clothes. \n",
    "Each image in Fashion-MNIST has 28x28 pixels which can be represented in an array with 784 elements. You can take a better look at this dataset in this [link](https://www.openml.org/d/40996) \n",
    "\n",
    "In this part, we are going to use PCA to compress these images. The $x$ matrix below has 1000 images."
   ]
  },
  {
   "cell_type": "code",
   "execution_count": 60,
   "metadata": {
    "executionInfo": {
     "elapsed": 58201,
     "status": "ok",
     "timestamp": 1668727647359,
     "user": {
      "displayName": "Jun Park",
      "userId": "10551472248204904453"
     },
     "user_tz": 300
    },
    "id": "x0aXxMp2jBnO"
   },
   "outputs": [],
   "source": [
    "from sklearn.datasets import fetch_openml\n",
    "mnist = fetch_openml(\"Fashion-MNIST\")\n",
    "x = mnist.data[0:1000]\n",
    "y = mnist.target[0:1000]\n",
    "target_encoding = {0: \"T-shirt/top\",\n",
    "1: \"Trouser\",\n",
    "2: \"Pullover\",\n",
    "3: \"Dress\",\n",
    "4: \"Coat\",\n",
    "5: \"Sandal\",\n",
    "6: \"Shirt\",\n",
    "7: \"Sneaker\",\n",
    "8: \"Bag\",\n",
    "9: \"Ankle boot\"}"
   ]
  },
  {
   "cell_type": "code",
   "execution_count": 61,
   "metadata": {
    "colab": {
     "base_uri": "https://localhost:8080/"
    },
    "executionInfo": {
     "elapsed": 13,
     "status": "ok",
     "timestamp": 1668727647360,
     "user": {
      "displayName": "Jun Park",
      "userId": "10551472248204904453"
     },
     "user_tz": 300
    },
    "id": "0aGQs6UEjDMd",
    "outputId": "674cc056-e95b-49ec-d47e-fd3e999b4285"
   },
   "outputs": [
    {
     "data": {
      "text/plain": [
       "(1000, 784)"
      ]
     },
     "execution_count": 61,
     "metadata": {},
     "output_type": "execute_result"
    }
   ],
   "source": [
    "x.shape"
   ]
  },
  {
   "cell_type": "code",
   "execution_count": 62,
   "metadata": {
    "colab": {
     "base_uri": "https://localhost:8080/",
     "height": 283
    },
    "executionInfo": {
     "elapsed": 132,
     "status": "ok",
     "timestamp": 1668727647481,
     "user": {
      "displayName": "Jun Park",
      "userId": "10551472248204904453"
     },
     "user_tz": 300
    },
    "id": "6IXqPnjxjEhc",
    "outputId": "ee146cff-8ea7-4d9a-8011-4adaee082f4c"
   },
   "outputs": [
    {
     "name": "stdout",
     "output_type": "stream",
     "text": [
      "Label is: Ankle boot\n"
     ]
    },
    {
     "data": {
      "image/png": "[encoded data removed]",
      "text/plain": [
       "<Figure size 432x288 with 1 Axes>"
      ]
     },
     "metadata": {
      "needs_background": "light"
     },
     "output_type": "display_data"
    }
   ],
   "source": [
    "import matplotlib.pyplot as plt \n",
    "plt.gray() \n",
    "ind = 15\n",
    "plt.imshow(x.loc[ind].values.reshape(28,28)) \n",
    "print (\"Label is:\", target_encoding[int(y[ind])])\n",
    "plt.show() "
   ]
  },
  {
   "cell_type": "code",
   "execution_count": 63,
   "metadata": {
    "colab": {
     "base_uri": "https://localhost:8080/",
     "height": 283
    },
    "executionInfo": {
     "elapsed": 137,
     "status": "ok",
     "timestamp": 1668727647616,
     "user": {
      "displayName": "Jun Park",
      "userId": "10551472248204904453"
     },
     "user_tz": 300
    },
    "id": "YmMWZhzDTkGx",
    "outputId": "e20c277f-7bb8-4064-fd9e-d395e50a28b8"
   },
   "outputs": [
    {
     "name": "stdout",
     "output_type": "stream",
     "text": [
      "Label is: Shirt\n"
     ]
    },
    {
     "data": {
      "image/png": "[encoded data removed]",
      "text/plain": [
       "<Figure size 432x288 with 1 Axes>"
      ]
     },
     "metadata": {
      "needs_background": "light"
     },
     "output_type": "display_data"
    }
   ],
   "source": [
    "# Testing\n",
    "plt.gray() \n",
    "ind = 40\n",
    "plt.imshow(x.loc[ind].values.reshape(28,28)) \n",
    "print (\"Label is:\", target_encoding[int(y[ind])])\n",
    "plt.show() "
   ]
  },
  {
   "cell_type": "markdown",
   "metadata": {
    "id": "epSyy7t5zDeo"
   },
   "source": [
    "## Part 1"
   ]
  },
  {
   "cell_type": "markdown",
   "metadata": {},
   "source": [
    "Create a new dataset by selecting images from only three categories (three distinct labels)."
   ]
  },
  {
   "cell_type": "code",
   "execution_count": 65,
   "metadata": {
    "colab": {
     "base_uri": "https://localhost:8080/",
     "height": 488
    },
    "executionInfo": {
     "elapsed": 138,
     "status": "ok",
     "timestamp": 1668727647752,
     "user": {
      "displayName": "Jun Park",
      "userId": "10551472248204904453"
     },
     "user_tz": 300
    },
    "id": "rTc1lBUJTkEs",
    "outputId": "e12b8645-b79e-4352-d13b-7ce4191c1803"
   },
   "outputs": [
    {
     "data": {
      "text/html": [
       "\n",
       "  <div id=\"df-87830e00-8da3-43e6-a6fa-447143e29afc\">\n",
       "    <div class=\"colab-df-container\">\n",
       "      <div>\n",
       "<style scoped>\n",
       "    .dataframe tbody tr th:only-of-type {\n",
       "        vertical-align: middle;\n",
       "    }\n",
       "\n",
       "    .dataframe tbody tr th {\n",
       "        vertical-align: top;\n",
       "    }\n",
       "\n",
       "    .dataframe thead th {\n",
       "        text-align: right;\n",
       "    }\n",
       "</style>\n",
       "<table border=\"1\" class=\"dataframe\">\n",
       "  <thead>\n",
       "    <tr style=\"text-align: right;\">\n",
       "      <th></th>\n",
       "      <th>pixel1</th>\n",
       "      <th>pixel2</th>\n",
       "      <th>pixel3</th>\n",
       "      <th>pixel4</th>\n",
       "      <th>pixel5</th>\n",
       "      <th>pixel6</th>\n",
       "      <th>pixel7</th>\n",
       "      <th>pixel8</th>\n",
       "      <th>pixel9</th>\n",
       "      <th>pixel10</th>\n",
       "      <th>...</th>\n",
       "      <th>pixel775</th>\n",
       "      <th>pixel776</th>\n",
       "      <th>pixel777</th>\n",
       "      <th>pixel778</th>\n",
       "      <th>pixel779</th>\n",
       "      <th>pixel780</th>\n",
       "      <th>pixel781</th>\n",
       "      <th>pixel782</th>\n",
       "      <th>pixel783</th>\n",
       "      <th>pixel784</th>\n",
       "    </tr>\n",
       "  </thead>\n",
       "  <tbody>\n",
       "    <tr>\n",
       "      <th>0</th>\n",
       "      <td>0.0</td>\n",
       "      <td>0.0</td>\n",
       "      <td>0.0</td>\n",
       "      <td>0.0</td>\n",
       "      <td>0.0</td>\n",
       "      <td>0.0</td>\n",
       "      <td>0.0</td>\n",
       "      <td>0.0</td>\n",
       "      <td>0.0</td>\n",
       "      <td>0.0</td>\n",
       "      <td>...</td>\n",
       "      <td>0.0</td>\n",
       "      <td>0.0</td>\n",
       "      <td>0.0</td>\n",
       "      <td>0.0</td>\n",
       "      <td>0.0</td>\n",
       "      <td>0.0</td>\n",
       "      <td>0.0</td>\n",
       "      <td>0.0</td>\n",
       "      <td>0.0</td>\n",
       "      <td>0.0</td>\n",
       "    </tr>\n",
       "    <tr>\n",
       "      <th>1</th>\n",
       "      <td>0.0</td>\n",
       "      <td>0.0</td>\n",
       "      <td>0.0</td>\n",
       "      <td>0.0</td>\n",
       "      <td>0.0</td>\n",
       "      <td>0.0</td>\n",
       "      <td>0.0</td>\n",
       "      <td>0.0</td>\n",
       "      <td>0.0</td>\n",
       "      <td>0.0</td>\n",
       "      <td>...</td>\n",
       "      <td>0.0</td>\n",
       "      <td>0.0</td>\n",
       "      <td>0.0</td>\n",
       "      <td>0.0</td>\n",
       "      <td>0.0</td>\n",
       "      <td>0.0</td>\n",
       "      <td>0.0</td>\n",
       "      <td>0.0</td>\n",
       "      <td>0.0</td>\n",
       "      <td>0.0</td>\n",
       "    </tr>\n",
       "    <tr>\n",
       "      <th>2</th>\n",
       "      <td>0.0</td>\n",
       "      <td>0.0</td>\n",
       "      <td>0.0</td>\n",
       "      <td>0.0</td>\n",
       "      <td>0.0</td>\n",
       "      <td>0.0</td>\n",
       "      <td>0.0</td>\n",
       "      <td>0.0</td>\n",
       "      <td>0.0</td>\n",
       "      <td>0.0</td>\n",
       "      <td>...</td>\n",
       "      <td>0.0</td>\n",
       "      <td>0.0</td>\n",
       "      <td>0.0</td>\n",
       "      <td>0.0</td>\n",
       "      <td>0.0</td>\n",
       "      <td>0.0</td>\n",
       "      <td>0.0</td>\n",
       "      <td>0.0</td>\n",
       "      <td>0.0</td>\n",
       "      <td>0.0</td>\n",
       "    </tr>\n",
       "    <tr>\n",
       "      <th>3</th>\n",
       "      <td>0.0</td>\n",
       "      <td>0.0</td>\n",
       "      <td>0.0</td>\n",
       "      <td>0.0</td>\n",
       "      <td>0.0</td>\n",
       "      <td>0.0</td>\n",
       "      <td>0.0</td>\n",
       "      <td>0.0</td>\n",
       "      <td>0.0</td>\n",
       "      <td>0.0</td>\n",
       "      <td>...</td>\n",
       "      <td>0.0</td>\n",
       "      <td>0.0</td>\n",
       "      <td>0.0</td>\n",
       "      <td>0.0</td>\n",
       "      <td>0.0</td>\n",
       "      <td>0.0</td>\n",
       "      <td>0.0</td>\n",
       "      <td>0.0</td>\n",
       "      <td>0.0</td>\n",
       "      <td>0.0</td>\n",
       "    </tr>\n",
       "    <tr>\n",
       "      <th>4</th>\n",
       "      <td>0.0</td>\n",
       "      <td>0.0</td>\n",
       "      <td>0.0</td>\n",
       "      <td>0.0</td>\n",
       "      <td>0.0</td>\n",
       "      <td>0.0</td>\n",
       "      <td>0.0</td>\n",
       "      <td>0.0</td>\n",
       "      <td>0.0</td>\n",
       "      <td>0.0</td>\n",
       "      <td>...</td>\n",
       "      <td>0.0</td>\n",
       "      <td>0.0</td>\n",
       "      <td>64.0</td>\n",
       "      <td>42.0</td>\n",
       "      <td>24.0</td>\n",
       "      <td>0.0</td>\n",
       "      <td>0.0</td>\n",
       "      <td>0.0</td>\n",
       "      <td>0.0</td>\n",
       "      <td>0.0</td>\n",
       "    </tr>\n",
       "    <tr>\n",
       "      <th>...</th>\n",
       "      <td>...</td>\n",
       "      <td>...</td>\n",
       "      <td>...</td>\n",
       "      <td>...</td>\n",
       "      <td>...</td>\n",
       "      <td>...</td>\n",
       "      <td>...</td>\n",
       "      <td>...</td>\n",
       "      <td>...</td>\n",
       "      <td>...</td>\n",
       "      <td>...</td>\n",
       "      <td>...</td>\n",
       "      <td>...</td>\n",
       "      <td>...</td>\n",
       "      <td>...</td>\n",
       "      <td>...</td>\n",
       "      <td>...</td>\n",
       "      <td>...</td>\n",
       "      <td>...</td>\n",
       "      <td>...</td>\n",
       "      <td>...</td>\n",
       "    </tr>\n",
       "    <tr>\n",
       "      <th>309</th>\n",
       "      <td>0.0</td>\n",
       "      <td>0.0</td>\n",
       "      <td>0.0</td>\n",
       "      <td>0.0</td>\n",
       "      <td>0.0</td>\n",
       "      <td>0.0</td>\n",
       "      <td>0.0</td>\n",
       "      <td>0.0</td>\n",
       "      <td>0.0</td>\n",
       "      <td>0.0</td>\n",
       "      <td>...</td>\n",
       "      <td>0.0</td>\n",
       "      <td>0.0</td>\n",
       "      <td>0.0</td>\n",
       "      <td>0.0</td>\n",
       "      <td>0.0</td>\n",
       "      <td>0.0</td>\n",
       "      <td>0.0</td>\n",
       "      <td>0.0</td>\n",
       "      <td>0.0</td>\n",
       "      <td>0.0</td>\n",
       "    </tr>\n",
       "    <tr>\n",
       "      <th>310</th>\n",
       "      <td>0.0</td>\n",
       "      <td>0.0</td>\n",
       "      <td>0.0</td>\n",
       "      <td>0.0</td>\n",
       "      <td>0.0</td>\n",
       "      <td>0.0</td>\n",
       "      <td>0.0</td>\n",
       "      <td>0.0</td>\n",
       "      <td>0.0</td>\n",
       "      <td>0.0</td>\n",
       "      <td>...</td>\n",
       "      <td>0.0</td>\n",
       "      <td>0.0</td>\n",
       "      <td>0.0</td>\n",
       "      <td>0.0</td>\n",
       "      <td>0.0</td>\n",
       "      <td>0.0</td>\n",
       "      <td>0.0</td>\n",
       "      <td>0.0</td>\n",
       "      <td>0.0</td>\n",
       "      <td>0.0</td>\n",
       "    </tr>\n",
       "    <tr>\n",
       "      <th>311</th>\n",
       "      <td>0.0</td>\n",
       "      <td>0.0</td>\n",
       "      <td>0.0</td>\n",
       "      <td>0.0</td>\n",
       "      <td>0.0</td>\n",
       "      <td>0.0</td>\n",
       "      <td>0.0</td>\n",
       "      <td>0.0</td>\n",
       "      <td>0.0</td>\n",
       "      <td>0.0</td>\n",
       "      <td>...</td>\n",
       "      <td>0.0</td>\n",
       "      <td>0.0</td>\n",
       "      <td>0.0</td>\n",
       "      <td>0.0</td>\n",
       "      <td>0.0</td>\n",
       "      <td>0.0</td>\n",
       "      <td>0.0</td>\n",
       "      <td>0.0</td>\n",
       "      <td>0.0</td>\n",
       "      <td>0.0</td>\n",
       "    </tr>\n",
       "    <tr>\n",
       "      <th>312</th>\n",
       "      <td>0.0</td>\n",
       "      <td>0.0</td>\n",
       "      <td>0.0</td>\n",
       "      <td>0.0</td>\n",
       "      <td>0.0</td>\n",
       "      <td>0.0</td>\n",
       "      <td>0.0</td>\n",
       "      <td>0.0</td>\n",
       "      <td>0.0</td>\n",
       "      <td>0.0</td>\n",
       "      <td>...</td>\n",
       "      <td>0.0</td>\n",
       "      <td>0.0</td>\n",
       "      <td>0.0</td>\n",
       "      <td>0.0</td>\n",
       "      <td>0.0</td>\n",
       "      <td>0.0</td>\n",
       "      <td>0.0</td>\n",
       "      <td>0.0</td>\n",
       "      <td>0.0</td>\n",
       "      <td>0.0</td>\n",
       "    </tr>\n",
       "    <tr>\n",
       "      <th>313</th>\n",
       "      <td>0.0</td>\n",
       "      <td>0.0</td>\n",
       "      <td>0.0</td>\n",
       "      <td>0.0</td>\n",
       "      <td>0.0</td>\n",
       "      <td>0.0</td>\n",
       "      <td>0.0</td>\n",
       "      <td>0.0</td>\n",
       "      <td>0.0</td>\n",
       "      <td>0.0</td>\n",
       "      <td>...</td>\n",
       "      <td>0.0</td>\n",
       "      <td>0.0</td>\n",
       "      <td>0.0</td>\n",
       "      <td>0.0</td>\n",
       "      <td>0.0</td>\n",
       "      <td>0.0</td>\n",
       "      <td>0.0</td>\n",
       "      <td>0.0</td>\n",
       "      <td>0.0</td>\n",
       "      <td>0.0</td>\n",
       "    </tr>\n",
       "  </tbody>\n",
       "</table>\n",
       "<p>314 rows × 784 columns</p>\n",
       "</div>\n",
       "      <button class=\"colab-df-convert\" onclick=\"convertToInteractive('df-87830e00-8da3-43e6-a6fa-447143e29afc')\"\n",
       "              title=\"Convert this dataframe to an interactive table.\"\n",
       "              style=\"display:none;\">\n",
       "        \n",
       "  <svg xmlns=\"http://www.w3.org/2000/svg\" height=\"24px\"viewBox=\"0 0 24 24\"\n",
       "       width=\"24px\">\n",
       "    <path d=\"M0 0h24v24H0V0z\" fill=\"none\"/>\n",
       "    <path d=\"M18.56 5.44l.94 2.06.94-2.06 2.06-.94-2.06-.94-.94-2.06-.94 2.06-2.06.94zm-11 1L8.5 8.5l.94-2.06 2.06-.94-2.06-.94L8.5 2.5l-.94 2.06-2.06.94zm10 10l.94 2.06.94-2.06 2.06-.94-2.06-.94-.94-2.06-.94 2.06-2.06.94z\"/><path d=\"M17.41 7.96l-1.37-1.37c-.4-.4-.92-.59-1.43-.59-.52 0-1.04.2-1.43.59L10.3 9.45l-7.72 7.72c-.78.78-.78 2.05 0 2.83L4 21.41c.39.39.9.59 1.41.59.51 0 1.02-.2 1.41-.59l7.78-7.78 2.81-2.81c.8-.78.8-2.07 0-2.86zM5.41 20L4 18.59l7.72-7.72 1.47 1.35L5.41 20z\"/>\n",
       "  </svg>\n",
       "      </button>\n",
       "      \n",
       "  <style>\n",
       "    .colab-df-container {\n",
       "      display:flex;\n",
       "      flex-wrap:wrap;\n",
       "      gap: 12px;\n",
       "    }\n",
       "\n",
       "    .colab-df-convert {\n",
       "      background-color: #E8F0FE;\n",
       "      border: none;\n",
       "      border-radius: 50%;\n",
       "      cursor: pointer;\n",
       "      display: none;\n",
       "      fill: #1967D2;\n",
       "      height: 32px;\n",
       "      padding: 0 0 0 0;\n",
       "      width: 32px;\n",
       "    }\n",
       "\n",
       "    .colab-df-convert:hover {\n",
       "      background-color: #E2EBFA;\n",
       "      box-shadow: 0px 1px 2px rgba(60, 64, 67, 0.3), 0px 1px 3px 1px rgba(60, 64, 67, 0.15);\n",
       "      fill: #174EA6;\n",
       "    }\n",
       "\n",
       "    [theme=dark] .colab-df-convert {\n",
       "      background-color: #3B4455;\n",
       "      fill: #D2E3FC;\n",
       "    }\n",
       "\n",
       "    [theme=dark] .colab-df-convert:hover {\n",
       "      background-color: #434B5C;\n",
       "      box-shadow: 0px 1px 3px 1px rgba(0, 0, 0, 0.15);\n",
       "      filter: drop-shadow(0px 1px 2px rgba(0, 0, 0, 0.3));\n",
       "      fill: #FFFFFF;\n",
       "    }\n",
       "  </style>\n",
       "\n",
       "      <script>\n",
       "        const buttonEl =\n",
       "          document.querySelector('#df-87830e00-8da3-43e6-a6fa-447143e29afc button.colab-df-convert');\n",
       "        buttonEl.style.display =\n",
       "          google.colab.kernel.accessAllowed ? 'block' : 'none';\n",
       "\n",
       "        async function convertToInteractive(key) {\n",
       "          const element = document.querySelector('#df-87830e00-8da3-43e6-a6fa-447143e29afc');\n",
       "          const dataTable =\n",
       "            await google.colab.kernel.invokeFunction('convertToInteractive',\n",
       "                                                     [key], {});\n",
       "          if (!dataTable) return;\n",
       "\n",
       "          const docLinkHtml = 'Like what you see? Visit the ' +\n",
       "            '<a target=\"_blank\" href=https://colab.research.google.com/notebooks/data_table.ipynb>data table notebook</a>'\n",
       "            + ' to learn more about interactive tables.';\n",
       "          element.innerHTML = '';\n",
       "          dataTable['output_type'] = 'display_data';\n",
       "          await google.colab.output.renderOutput(dataTable, element);\n",
       "          const docLink = document.createElement('div');\n",
       "          docLink.innerHTML = docLinkHtml;\n",
       "          element.appendChild(docLink);\n",
       "        }\n",
       "      </script>\n",
       "    </div>\n",
       "  </div>\n",
       "  "
      ],
      "text/plain": [
       "     pixel1  pixel2  pixel3  pixel4  pixel5  pixel6  pixel7  pixel8  pixel9  \\\n",
       "0       0.0     0.0     0.0     0.0     0.0     0.0     0.0     0.0     0.0   \n",
       "1       0.0     0.0     0.0     0.0     0.0     0.0     0.0     0.0     0.0   \n",
       "2       0.0     0.0     0.0     0.0     0.0     0.0     0.0     0.0     0.0   \n",
       "3       0.0     0.0     0.0     0.0     0.0     0.0     0.0     0.0     0.0   \n",
       "4       0.0     0.0     0.0     0.0     0.0     0.0     0.0     0.0     0.0   \n",
       "..      ...     ...     ...     ...     ...     ...     ...     ...     ...   \n",
       "309     0.0     0.0     0.0     0.0     0.0     0.0     0.0     0.0     0.0   \n",
       "310     0.0     0.0     0.0     0.0     0.0     0.0     0.0     0.0     0.0   \n",
       "311     0.0     0.0     0.0     0.0     0.0     0.0     0.0     0.0     0.0   \n",
       "312     0.0     0.0     0.0     0.0     0.0     0.0     0.0     0.0     0.0   \n",
       "313     0.0     0.0     0.0     0.0     0.0     0.0     0.0     0.0     0.0   \n",
       "\n",
       "     pixel10  ...  pixel775  pixel776  pixel777  pixel778  pixel779  pixel780  \\\n",
       "0        0.0  ...       0.0       0.0       0.0       0.0       0.0       0.0   \n",
       "1        0.0  ...       0.0       0.0       0.0       0.0       0.0       0.0   \n",
       "2        0.0  ...       0.0       0.0       0.0       0.0       0.0       0.0   \n",
       "3        0.0  ...       0.0       0.0       0.0       0.0       0.0       0.0   \n",
       "4        0.0  ...       0.0       0.0      64.0      42.0      24.0       0.0   \n",
       "..       ...  ...       ...       ...       ...       ...       ...       ...   \n",
       "309      0.0  ...       0.0       0.0       0.0       0.0       0.0       0.0   \n",
       "310      0.0  ...       0.0       0.0       0.0       0.0       0.0       0.0   \n",
       "311      0.0  ...       0.0       0.0       0.0       0.0       0.0       0.0   \n",
       "312      0.0  ...       0.0       0.0       0.0       0.0       0.0       0.0   \n",
       "313      0.0  ...       0.0       0.0       0.0       0.0       0.0       0.0   \n",
       "\n",
       "     pixel781  pixel782  pixel783  pixel784  \n",
       "0         0.0       0.0       0.0       0.0  \n",
       "1         0.0       0.0       0.0       0.0  \n",
       "2         0.0       0.0       0.0       0.0  \n",
       "3         0.0       0.0       0.0       0.0  \n",
       "4         0.0       0.0       0.0       0.0  \n",
       "..        ...       ...       ...       ...  \n",
       "309       0.0       0.0       0.0       0.0  \n",
       "310       0.0       0.0       0.0       0.0  \n",
       "311       0.0       0.0       0.0       0.0  \n",
       "312       0.0       0.0       0.0       0.0  \n",
       "313       0.0       0.0       0.0       0.0  \n",
       "\n",
       "[314 rows x 784 columns]"
      ]
     },
     "execution_count": 65,
     "metadata": {},
     "output_type": "execute_result"
    }
   ],
   "source": [
    "df_part4 = x.copy()\n",
    "df_part4[\"label\"] = y\n",
    "# Selected 5 (Sandal), 7 (Sneaker), 9 (Ankle boot) labels\n",
    "new_df = df_part4[(df_part4[\"label\"] == \"5\")|(df_part4[\"label\"] == \"7\")|(df_part4[\"label\"] == \"9\")].reset_index(drop=True)\n",
    "x_new = new_df.iloc[:,:-1]\n",
    "y_new = new_df.iloc[:,-1]\n",
    "x_new"
   ]
  },
  {
   "cell_type": "code",
   "execution_count": 66,
   "metadata": {
    "colab": {
     "base_uri": "https://localhost:8080/"
    },
    "executionInfo": {
     "elapsed": 5,
     "status": "ok",
     "timestamp": 1668727647752,
     "user": {
      "displayName": "Jun Park",
      "userId": "10551472248204904453"
     },
     "user_tz": 300
    },
    "id": "BRgZvX4Hf_lX",
    "outputId": "3f76630e-590d-4d7c-b8ba-95dfb8547b61"
   },
   "outputs": [
    {
     "data": {
      "text/plain": [
       "0      9\n",
       "1      7\n",
       "2      5\n",
       "3      5\n",
       "4      9\n",
       "      ..\n",
       "309    9\n",
       "310    5\n",
       "311    5\n",
       "312    7\n",
       "313    9\n",
       "Name: label, Length: 314, dtype: category\n",
       "Categories (10, object): ['0', '1', '2', '3', ..., '6', '7', '8', '9']"
      ]
     },
     "execution_count": 66,
     "metadata": {},
     "output_type": "execute_result"
    }
   ],
   "source": [
    "y_new"
   ]
  },
  {
   "cell_type": "markdown",
   "metadata": {},
   "source": [
    "To compress and reconstruct images better with PCA, it is better to choose items that are similar in shape. why?"
   ]
  },
  {
   "cell_type": "markdown",
   "metadata": {},
   "source": [
    "It is better to choose items that are similar in shape because our goal in the end is to reconstruct images using selected eigenvectors. For example, the reconstruction of images would be simple if all items are shoes (sandal, sneaker, and ankle boot). However, if we mix a shirt and a bag with 3 shoes items, which are fundamentally very different in shapes compared to shoes, we will have harder time to reconstruct the image."
   ]
  },
  {
   "cell_type": "markdown",
   "metadata": {
    "id": "4kW-SZsPzJP8"
   },
   "source": [
    "## Part 2"
   ]
  },
  {
   "cell_type": "markdown",
   "metadata": {},
   "source": [
    "Compute Eigenvectors and Eigenvalues. "
   ]
  },
  {
   "cell_type": "code",
   "execution_count": 68,
   "metadata": {
    "colab": {
     "base_uri": "https://localhost:8080/",
     "height": 281
    },
    "executionInfo": {
     "elapsed": 107,
     "status": "ok",
     "timestamp": 1668727647857,
     "user": {
      "displayName": "Jun Park",
      "userId": "10551472248204904453"
     },
     "user_tz": 300
    },
    "id": "uznakN7LsMGd",
    "outputId": "c54a5fa1-5394-45af-b5a0-35e912be5d20"
   },
   "outputs": [
    {
     "data": {
      "image/png": "[encoded data removed]",
      "text/plain": [
       "<Figure size 432x288 with 1 Axes>"
      ]
     },
     "metadata": {
      "needs_background": "light"
     },
     "output_type": "display_data"
    }
   ],
   "source": [
    "def asRowMatrix(X):\n",
    "    X = X.values\n",
    "    if len(X) == 0: return np.array([])\n",
    "    rowMatrix = np.empty((0, X[0].size), dtype = X[0].dtype)\n",
    "    for img in X:\n",
    "        rowMatrix = np.vstack((rowMatrix, np.asarray(img).reshape(1, -1)))\n",
    "    return rowMatrix\n",
    "\n",
    "XMat = asRowMatrix(x_new);\n",
    "meanImage = np.reshape(XMat.mean(axis=0), x_new.values[0].shape)\n",
    "plt.imshow(meanImage.reshape(28,28), cmap=plt.cm.gray)\n",
    "plt.title('Mean Item')\n",
    "plt.show()"
   ]
  },
  {
   "cell_type": "code",
   "execution_count": 69,
   "metadata": {
    "colab": {
     "base_uri": "https://localhost:8080/"
    },
    "executionInfo": {
     "elapsed": 4,
     "status": "ok",
     "timestamp": 1668727647858,
     "user": {
      "displayName": "Jun Park",
      "userId": "10551472248204904453"
     },
     "user_tz": 300
    },
    "id": "ksQ26fUHt74q",
    "outputId": "f1abdde9-4e0e-4499-eec8-b2748f2a8ad8"
   },
   "outputs": [
    {
     "data": {
      "text/plain": [
       "(314, 784)"
      ]
     },
     "execution_count": 69,
     "metadata": {},
     "output_type": "execute_result"
    }
   ],
   "source": [
    "XMat.shape"
   ]
  },
  {
   "cell_type": "code",
   "execution_count": 70,
   "metadata": {
    "colab": {
     "base_uri": "https://localhost:8080/"
    },
    "executionInfo": {
     "elapsed": 126,
     "status": "ok",
     "timestamp": 1668727647982,
     "user": {
      "displayName": "Jun Park",
      "userId": "10551472248204904453"
     },
     "user_tz": 300
    },
    "id": "8BUcD9wSWP3V",
    "outputId": "96405039-767a-48fb-aaa2-3c6bd16aef76"
   },
   "outputs": [
    {
     "name": "stdout",
     "output_type": "stream",
     "text": [
      "Dim of Full Eigen Vectors (784, 314)\n",
      "Number of useful eigenBasis are:  148\n"
     ]
    }
   ],
   "source": [
    "# Get number of eigenvalues\n",
    "def getBasisCountThatPreservesVariance(eigenValues, variance=0.98):\n",
    "    for idx, cumulativeSum in enumerate(np.cumsum(eigenValues) / np.sum(eigenValues)):\n",
    "        if cumulativeSum > variance:\n",
    "            return idx\n",
    "\n",
    "def pca(X, y):\n",
    "    n, d = X.shape\n",
    "    mu = X.mean(axis=0)\n",
    "    X = X - mu # standardising data\n",
    "\n",
    "    \n",
    "    # Note: This is the case when the number of samples is more than the number of features. \n",
    "    if n > d:  \n",
    "        C = np.dot(X.T,X) / (n-1) # covariance matrix\n",
    "        eigenValues, eigenVectors = np.linalg.eigh(C)\n",
    "\n",
    "    # Case when if you have many many features, apply it to sample\n",
    "    else:\n",
    "        C = np.dot(X,X.T) / (n-1) # covariance matrix\n",
    "        eigenValues, eigenVectors = np.linalg.eigh(C)\n",
    "        eigenVectors = np.dot(X.T, eigenVectors)\n",
    "        for i in range(n):\n",
    "            eigenVectors[:,i] = eigenVectors[:, i] / np.linalg.norm(eigenVectors[:, i]) \n",
    "\n",
    "    print (\"Dim of Full Eigen Vectors\", eigenVectors.shape)\n",
    "            \n",
    "    \n",
    "    # sort eigenVectors in descending order by their eigenValue\n",
    "    idx = np.argsort(-eigenValues)\n",
    "    eigenValues = eigenValues[idx]\n",
    "    eigenVectors = eigenVectors[:, idx]\n",
    "    \n",
    "    # select based on numOfBasis\n",
    "    numOfBasis = getBasisCountThatPreservesVariance(eigenValues)\n",
    "    print('Number of useful eigenBasis are: ', numOfBasis)\n",
    "    eigenValues = eigenValues[0:numOfBasis].copy()\n",
    "    eigenVectors = eigenVectors[:, 0:numOfBasis].copy()\n",
    "    return eigenValues, eigenVectors, mu \n",
    "\n",
    "eigenValues_p4, eigenVectors_p4, mean_p4 = pca(XMat, y_new)"
   ]
  },
  {
   "cell_type": "code",
   "execution_count": 71,
   "metadata": {
    "colab": {
     "base_uri": "https://localhost:8080/"
    },
    "executionInfo": {
     "elapsed": 8,
     "status": "ok",
     "timestamp": 1668727647982,
     "user": {
      "displayName": "Jun Park",
      "userId": "10551472248204904453"
     },
     "user_tz": 300
    },
    "id": "7wvwwGu5Vl1P",
    "outputId": "ac60acbb-8698-40e4-ba70-8908b0c185f6"
   },
   "outputs": [
    {
     "name": "stdout",
     "output_type": "stream",
     "text": [
      "EigenVectors:  [994502.27105248 423714.50430105 231504.35304924 101607.69321682\n",
      "  77899.95328068  67417.35185631  58278.57095382  53178.50284623\n",
      "  48380.33037253  45440.46292951  37865.27160942  35023.94543106\n",
      "  32143.40356174  30926.48177921  26491.72985672  24602.34243442\n",
      "  24248.82111666  22910.52938118  22191.63591787  18733.79069717\n",
      "  17923.86074127  16993.83139631  16129.97606477  15736.58704022\n",
      "  15672.77620165  15236.28467076  14212.0572728   13448.16036246\n",
      "  13144.83947378  12786.40309877  12239.59775284  11809.55656914\n",
      "  11453.2197923   11223.26138131  10476.15747828  10007.82038863\n",
      "   9812.98934501   9613.90886493   9330.37923688   9114.76467615\n",
      "   9065.21446574   8714.39437588   8381.51653422   8326.00383573\n",
      "   8099.03245401   8032.62257825   7572.39009633   7389.98655105\n",
      "   7083.83910429   6940.3919688    6738.39305145   6614.6827676\n",
      "   6321.11430486   6134.9922488    5906.91724733   5874.0249692\n",
      "   5762.24176922   5587.43072587   5525.71248667   5481.14156994\n",
      "   5193.08963915   5135.19956969   5078.51723816   4982.05091309\n",
      "   4843.75154439   4761.63183006   4694.34161334   4547.51131541\n",
      "   4452.73445544   4363.33479434   4289.76036159   4235.84249561\n",
      "   4122.36188568   4046.51593945   3921.58659989   3875.48079255\n",
      "   3842.79080582   3805.61575547   3666.24729263   3642.18842972\n",
      "   3482.24968101   3468.62329313   3386.47221537   3343.82266723\n",
      "   3319.26406722   3270.65482637   3239.18911366   3121.66809701\n",
      "   3022.15236485   2955.18685743   2915.89473384   2850.69470825\n",
      "   2801.04024845   2770.50974837   2724.46020835   2674.0525527\n",
      "   2596.098584     2575.23687132   2554.55881471   2513.92847208\n",
      "   2488.1573361    2450.99127084   2399.84977039   2364.26960317\n",
      "   2343.04963711   2318.07840217   2280.89527597   2230.44145917\n",
      "   2168.31695541   2162.5874868    2118.29716508   2087.73667991\n",
      "   2047.41855607   2000.60733706   1954.31512055   1937.54366628\n",
      "   1918.31407803   1889.2490637    1861.21257876   1827.96125438\n",
      "   1787.44508358   1762.95517372   1743.53819779   1727.94895491\n",
      "   1711.06046624   1686.65908147   1652.70727816   1598.5606976\n",
      "   1591.8988302    1568.22709787   1532.40720661   1503.01387639\n",
      "   1480.96060514   1469.24025563   1433.13084468   1412.58595707\n",
      "   1386.31719781   1369.59049295   1341.14266586   1324.69244421\n",
      "   1310.90151627   1276.22738629   1267.00664158   1247.50968793\n",
      "   1235.75011386   1228.85213141   1188.09787892   1170.6498879 ]\n"
     ]
    }
   ],
   "source": [
    "print(\"EigenVectors: \", eigenValues_p4)"
   ]
  },
  {
   "cell_type": "code",
   "execution_count": 72,
   "metadata": {
    "colab": {
     "base_uri": "https://localhost:8080/"
    },
    "executionInfo": {
     "elapsed": 7,
     "status": "ok",
     "timestamp": 1668727647982,
     "user": {
      "displayName": "Jun Park",
      "userId": "10551472248204904453"
     },
     "user_tz": 300
    },
    "id": "1CADNSnXVlxP",
    "outputId": "702ea221-e02d-4d07-c1cc-1e48937ea00b"
   },
   "outputs": [
    {
     "name": "stdout",
     "output_type": "stream",
     "text": [
      "EigenValues:  [994502.27105248 423714.50430105 231504.35304924 101607.69321682\n",
      "  77899.95328068  67417.35185631  58278.57095382  53178.50284623\n",
      "  48380.33037253  45440.46292951  37865.27160942  35023.94543106\n",
      "  32143.40356174  30926.48177921  26491.72985672  24602.34243442\n",
      "  24248.82111666  22910.52938118  22191.63591787  18733.79069717\n",
      "  17923.86074127  16993.83139631  16129.97606477  15736.58704022\n",
      "  15672.77620165  15236.28467076  14212.0572728   13448.16036246\n",
      "  13144.83947378  12786.40309877  12239.59775284  11809.55656914\n",
      "  11453.2197923   11223.26138131  10476.15747828  10007.82038863\n",
      "   9812.98934501   9613.90886493   9330.37923688   9114.76467615\n",
      "   9065.21446574   8714.39437588   8381.51653422   8326.00383573\n",
      "   8099.03245401   8032.62257825   7572.39009633   7389.98655105\n",
      "   7083.83910429   6940.3919688    6738.39305145   6614.6827676\n",
      "   6321.11430486   6134.9922488    5906.91724733   5874.0249692\n",
      "   5762.24176922   5587.43072587   5525.71248667   5481.14156994\n",
      "   5193.08963915   5135.19956969   5078.51723816   4982.05091309\n",
      "   4843.75154439   4761.63183006   4694.34161334   4547.51131541\n",
      "   4452.73445544   4363.33479434   4289.76036159   4235.84249561\n",
      "   4122.36188568   4046.51593945   3921.58659989   3875.48079255\n",
      "   3842.79080582   3805.61575547   3666.24729263   3642.18842972\n",
      "   3482.24968101   3468.62329313   3386.47221537   3343.82266723\n",
      "   3319.26406722   3270.65482637   3239.18911366   3121.66809701\n",
      "   3022.15236485   2955.18685743   2915.89473384   2850.69470825\n",
      "   2801.04024845   2770.50974837   2724.46020835   2674.0525527\n",
      "   2596.098584     2575.23687132   2554.55881471   2513.92847208\n",
      "   2488.1573361    2450.99127084   2399.84977039   2364.26960317\n",
      "   2343.04963711   2318.07840217   2280.89527597   2230.44145917\n",
      "   2168.31695541   2162.5874868    2118.29716508   2087.73667991\n",
      "   2047.41855607   2000.60733706   1954.31512055   1937.54366628\n",
      "   1918.31407803   1889.2490637    1861.21257876   1827.96125438\n",
      "   1787.44508358   1762.95517372   1743.53819779   1727.94895491\n",
      "   1711.06046624   1686.65908147   1652.70727816   1598.5606976\n",
      "   1591.8988302    1568.22709787   1532.40720661   1503.01387639\n",
      "   1480.96060514   1469.24025563   1433.13084468   1412.58595707\n",
      "   1386.31719781   1369.59049295   1341.14266586   1324.69244421\n",
      "   1310.90151627   1276.22738629   1267.00664158   1247.50968793\n",
      "   1235.75011386   1228.85213141   1188.09787892   1170.6498879 ]\n"
     ]
    }
   ],
   "source": [
    "print(\"EigenValues: \", eigenValues_p4)"
   ]
  },
  {
   "cell_type": "code",
   "execution_count": 73,
   "metadata": {
    "colab": {
     "base_uri": "https://localhost:8080/"
    },
    "executionInfo": {
     "elapsed": 6,
     "status": "ok",
     "timestamp": 1668727647983,
     "user": {
      "displayName": "Jun Park",
      "userId": "10551472248204904453"
     },
     "user_tz": 300
    },
    "id": "dnta1v8-cZLw",
    "outputId": "9f23f5af-8ad0-498f-9c18-69578e61ae79"
   },
   "outputs": [
    {
     "data": {
      "text/plain": [
       "((148,), (784, 148))"
      ]
     },
     "execution_count": 73,
     "metadata": {},
     "output_type": "execute_result"
    }
   ],
   "source": [
    "eigenValues_p4.shape , eigenVectors_p4.shape"
   ]
  },
  {
   "cell_type": "code",
   "execution_count": 74,
   "metadata": {
    "colab": {
     "base_uri": "https://localhost:8080/"
    },
    "executionInfo": {
     "elapsed": 5,
     "status": "ok",
     "timestamp": 1668727647983,
     "user": {
      "displayName": "Jun Park",
      "userId": "10551472248204904453"
     },
     "user_tz": 300
    },
    "id": "_isSJb8UcuJ-",
    "outputId": "226fe9d4-70ce-40c3-a139-a4ce52cb3427"
   },
   "outputs": [
    {
     "name": "stdout",
     "output_type": "stream",
     "text": [
      "Dimension of eigenvector will be:  (784,)\n"
     ]
    }
   ],
   "source": [
    "print(\"Dimension of eigenvector will be: \", eigenVectors_p4[:, 0].shape)"
   ]
  },
  {
   "cell_type": "markdown",
   "metadata": {
    "id": "N-1pTLk0zOU3"
   },
   "source": [
    "## Part 3"
   ]
  },
  {
   "cell_type": "markdown",
   "metadata": {},
   "source": [
    "Plot the first 10 eigenvectors (as images similar to eigenfaces)."
   ]
  },
  {
   "cell_type": "code",
   "execution_count": 76,
   "metadata": {
    "colab": {
     "base_uri": "https://localhost:8080/",
     "height": 494
    },
    "executionInfo": {
     "elapsed": 1239,
     "status": "ok",
     "timestamp": 1668727649329,
     "user": {
      "displayName": "Jun Park",
      "userId": "10551472248204904453"
     },
     "user_tz": 300
    },
    "id": "wJXmRPnuVlu5",
    "outputId": "1d938702-73be-4a59-ee72-48af3f792597"
   },
   "outputs": [
    {
     "data": {
      "image/png": "[encoded data removed]",
      "text/plain": [
       "<Figure size 1440x576 with 10 Axes>"
      ]
     },
     "metadata": {
      "needs_background": "light"
     },
     "output_type": "display_data"
    }
   ],
   "source": [
    "# print first 10 eigenvectors\n",
    "COUNT = 10\n",
    "ROWS = math.ceil(COUNT/5)\n",
    "fig = plt.figure(figsize=(20, ROWS * 4))\n",
    "for i in range(0, COUNT):\n",
    "    plt.subplot(ROWS, 5, i+1)\n",
    "    plt.imshow(eigenVectors_p4[:, i].reshape(-1, 28), cmap = plt.cm.gray)\n",
    "    plt.title('#{}'.format(i+1))"
   ]
  },
  {
   "cell_type": "markdown",
   "metadata": {},
   "source": [
    "**What trends do you observe?**\n",
    "\n",
    "Here, we can notice that although the colours of items and backgrounds vary for each plot, we can notice that the shapes of items resemble that of shoes. The idea is, there exist a differentiation between which pixels are more important and which \n",
    "pixels are less important. It can be observed that unlike the images of first few PCs (let's say #1, #2, #3), the last few images are harder to distinguish, implying that the images become noisier. "
   ]
  },
  {
   "cell_type": "markdown",
   "metadata": {
    "id": "_SOPTzFizSZT"
   },
   "source": [
    "## Part 4"
   ]
  },
  {
   "cell_type": "markdown",
   "metadata": {},
   "source": [
    "Create a function that requires an argument  n  and plots a random image from the dataset, as well as a reconstruction with the first  n  th principal components. \n"
   ]
  },
  {
   "cell_type": "code",
   "execution_count": 77,
   "metadata": {
    "executionInfo": {
     "elapsed": 2,
     "status": "ok",
     "timestamp": 1668727649329,
     "user": {
      "displayName": "Jun Park",
      "userId": "10551472248204904453"
     },
     "user_tz": 300
    },
    "id": "lrgoSl7Ldsky"
   },
   "outputs": [],
   "source": [
    "# Create a function that requires an argument  n  and plots a random image from the dataset, as well as a reconstruction with the first  n  th principal components. \n",
    "\n",
    "# Helper Functions:\n",
    "def project (W , X , mu):\n",
    "    return np.dot (X - mu , W)\n",
    "def reconstruct (W , Y , mu) :\n",
    "    return np.dot (Y , W.T) + mu\n",
    "\n",
    "# Main Function:\n",
    "def part4_4(x, y, n):\n",
    "\n",
    "  target_encoding = {0: \"T-shirt/top\",\n",
    "    1: \"Trouser\",\n",
    "    2: \"Pullover\",\n",
    "    3: \"Dress\",\n",
    "    4: \"Coat\",\n",
    "    5: \"Sandal\",\n",
    "    6: \"Shirt\",\n",
    "    7: \"Sneaker\",\n",
    "    8: \"Bag\",\n",
    "    9: \"Ankle boot\"}\n",
    "\n",
    "  eigenValues, eigenVectors, mean = pca(x, y)\n",
    "  print(\"\\n\")\n",
    "\n",
    "  # Random Image idx in dataset: \n",
    "  IMAGE_IDX = random.randint(0, len(x)-1)\n",
    "\n",
    "  # Actual image\n",
    "  plt.gray()\n",
    "  plt.imshow(x.loc[IMAGE_IDX].values.reshape(28,28))\n",
    "  print (\"Label is:\", target_encoding[int(y[IMAGE_IDX])])\n",
    "  print(\"Showing Random Image from dataset\")\n",
    "  plt.show()\n",
    "  print(\"\\n\")\n",
    "\n",
    "  # create reconstructed images\n",
    "  P = project(eigenVectors[:, 0:n], x.loc[IMAGE_IDX].to_numpy().reshape(1, -1), mean.to_numpy())\n",
    "  R = reconstruct(eigenVectors[:, 0:n], P, mean.to_numpy())\n",
    "  reconImage = R.reshape(x.loc[0].shape)\n",
    "\n",
    "  # plot reconstructed images\n",
    "  print(\"Showing Reconstructed Image using \" + str(n) + \" Principle Components\")\n",
    "  fig = plt.figure(figsize=(4, 4))\n",
    "  plt.imshow(reconImage.reshape(28,28), cmap = plt.cm.gray)\n",
    "  plt.title(\"Reconstruction:\"+ str(n) + \" Components\" )\n",
    "  plt.show()\n",
    "  print(\"\\n\")"
   ]
  },
  {
   "cell_type": "markdown",
   "metadata": {
    "id": "AKFJ0Tk7zZAo"
   },
   "source": [
    "## Part 5"
   ]
  },
  {
   "cell_type": "markdown",
   "metadata": {},
   "source": [
    "Run your function a few times, and determine how many components are required so that we (humans!) can identify the items.\n"
   ]
  },
  {
   "cell_type": "code",
   "execution_count": 78,
   "metadata": {
    "executionInfo": {
     "elapsed": 1,
     "status": "ok",
     "timestamp": 1668727649329,
     "user": {
      "displayName": "Jun Park",
      "userId": "10551472248204904453"
     },
     "user_tz": 300
    },
    "id": "xqCuAfCNzeEr"
   },
   "outputs": [],
   "source": [
    "# Run your function a few times, and determine how many components are required so that we (humans!) can identify the items.\n",
    "\n",
    "# Response: \n",
    "# Below, I have run my function several times, varying the value of n (reconstruction with the first n-th principle components). \n",
    "# I have tested with n = 1, 10, 40, 60, 80, 100, 120, 140, 148, 180, and 250. \n",
    "# It can be observed that as n gets closer to 148, the number of useful eigenBasis, the image becomes close to identical to\n",
    "# the actual randomly selected image. If n is below roughly around 80, the reconstructed image looks not too similar to the original\n",
    "# item for human to identify correctly. Starting from n value around 80 to 100, it becomes more distinguishable for human to\n",
    "# classify if the item is a sandal, a sneaker, or an ankle boot. After reaching n = 148, increasing the value of n does not greatly\n",
    "# help in terms of improving the quality of the image for identification. Therefore, n = 148 is enough to clearly identify \n",
    "# the item with human eyes. "
   ]
  },
  {
   "cell_type": "code",
   "execution_count": 79,
   "metadata": {
    "colab": {
     "base_uri": "https://localhost:8080/",
     "height": 725
    },
    "executionInfo": {
     "elapsed": 302,
     "status": "ok",
     "timestamp": 1668727649630,
     "user": {
      "displayName": "Jun Park",
      "userId": "10551472248204904453"
     },
     "user_tz": 300
    },
    "id": "SRcGNSADvGlv",
    "outputId": "40f0bb54-b912-42fc-9b48-8e1e8e068e91"
   },
   "outputs": [
    {
     "name": "stdout",
     "output_type": "stream",
     "text": [
      "Dim of Full Eigen Vectors (784, 314)\n",
      "Number of useful eigenBasis are:  148\n",
      "\n",
      "\n",
      "Label is: Sneaker\n",
      "Showing Random Image from dataset\n"
     ]
    },
    {
     "data": {
      "image/png": "[encoded data removed]",
      "text/plain": [
       "<Figure size 432x288 with 1 Axes>"
      ]
     },
     "metadata": {
      "needs_background": "light"
     },
     "output_type": "display_data"
    },
    {
     "name": "stdout",
     "output_type": "stream",
     "text": [
      "\n",
      "\n",
      "Showing Reconstructed Image using 1 Principle Components\n"
     ]
    },
    {
     "data": {
      "image/png": "[encoded data removed]",
      "text/plain": [
       "<Figure size 288x288 with 1 Axes>"
      ]
     },
     "metadata": {
      "needs_background": "light"
     },
     "output_type": "display_data"
    },
    {
     "name": "stdout",
     "output_type": "stream",
     "text": [
      "\n",
      "\n"
     ]
    }
   ],
   "source": [
    "part4_4(x_new, y_new, 1)"
   ]
  },
  {
   "cell_type": "code",
   "execution_count": 80,
   "metadata": {
    "colab": {
     "base_uri": "https://localhost:8080/",
     "height": 725
    },
    "executionInfo": {
     "elapsed": 348,
     "status": "ok",
     "timestamp": 1668727649977,
     "user": {
      "displayName": "Jun Park",
      "userId": "10551472248204904453"
     },
     "user_tz": 300
    },
    "id": "ybq1NS78vGiA",
    "outputId": "9f7a70d6-595e-4dae-d024-a868730aea25"
   },
   "outputs": [
    {
     "name": "stdout",
     "output_type": "stream",
     "text": [
      "Dim of Full Eigen Vectors (784, 314)\n",
      "Number of useful eigenBasis are:  148\n",
      "\n",
      "\n",
      "Label is: Sandal\n",
      "Showing Random Image from dataset\n"
     ]
    },
    {
     "data": {
      "image/png": "[encoded data removed]",
      "text/plain": [
       "<Figure size 432x288 with 1 Axes>"
      ]
     },
     "metadata": {
      "needs_background": "light"
     },
     "output_type": "display_data"
    },
    {
     "name": "stdout",
     "output_type": "stream",
     "text": [
      "\n",
      "\n",
      "Showing Reconstructed Image using 10 Principle Components\n"
     ]
    },
    {
     "data": {
      "image/png": "[encoded data removed]",
      "text/plain": [
       "<Figure size 288x288 with 1 Axes>"
      ]
     },
     "metadata": {
      "needs_background": "light"
     },
     "output_type": "display_data"
    },
    {
     "name": "stdout",
     "output_type": "stream",
     "text": [
      "\n",
      "\n"
     ]
    }
   ],
   "source": [
    "part4_4(x_new, y_new, 10)"
   ]
  },
  {
   "cell_type": "code",
   "execution_count": 81,
   "metadata": {
    "colab": {
     "base_uri": "https://localhost:8080/",
     "height": 725
    },
    "executionInfo": {
     "elapsed": 398,
     "status": "ok",
     "timestamp": 1668727650374,
     "user": {
      "displayName": "Jun Park",
      "userId": "10551472248204904453"
     },
     "user_tz": 300
    },
    "id": "uTYGO561vGf-",
    "outputId": "07894440-5ccb-47a3-b369-ec682cb581d6"
   },
   "outputs": [
    {
     "name": "stdout",
     "output_type": "stream",
     "text": [
      "Dim of Full Eigen Vectors (784, 314)\n",
      "Number of useful eigenBasis are:  148\n",
      "\n",
      "\n",
      "Label is: Ankle boot\n",
      "Showing Random Image from dataset\n"
     ]
    },
    {
     "data": {
      "image/png": "[encoded data removed]",
      "text/plain": [
       "<Figure size 432x288 with 1 Axes>"
      ]
     },
     "metadata": {
      "needs_background": "light"
     },
     "output_type": "display_data"
    },
    {
     "name": "stdout",
     "output_type": "stream",
     "text": [
      "\n",
      "\n",
      "Showing Reconstructed Image using 40 Principle Components\n"
     ]
    },
    {
     "data": {
      "image/png": "[encoded data removed]",
      "text/plain": [
       "<Figure size 288x288 with 1 Axes>"
      ]
     },
     "metadata": {
      "needs_background": "light"
     },
     "output_type": "display_data"
    },
    {
     "name": "stdout",
     "output_type": "stream",
     "text": [
      "\n",
      "\n"
     ]
    }
   ],
   "source": [
    "part4_4(x_new, y_new, 40)"
   ]
  },
  {
   "cell_type": "code",
   "execution_count": 82,
   "metadata": {
    "colab": {
     "base_uri": "https://localhost:8080/",
     "height": 725
    },
    "executionInfo": {
     "elapsed": 466,
     "status": "ok",
     "timestamp": 1668727650839,
     "user": {
      "displayName": "Jun Park",
      "userId": "10551472248204904453"
     },
     "user_tz": 300
    },
    "id": "oaZNOE3avGd7",
    "outputId": "e0d1f6a9-f6d3-4815-da51-d34127a6b066"
   },
   "outputs": [
    {
     "name": "stdout",
     "output_type": "stream",
     "text": [
      "Dim of Full Eigen Vectors (784, 314)\n",
      "Number of useful eigenBasis are:  148\n",
      "\n",
      "\n",
      "Label is: Sandal\n",
      "Showing Random Image from dataset\n"
     ]
    },
    {
     "data": {
      "image/png": "[encoded data removed]",
      "text/plain": [
       "<Figure size 432x288 with 1 Axes>"
      ]
     },
     "metadata": {
      "needs_background": "light"
     },
     "output_type": "display_data"
    },
    {
     "name": "stdout",
     "output_type": "stream",
     "text": [
      "\n",
      "\n",
      "Showing Reconstructed Image using 60 Principle Components\n"
     ]
    },
    {
     "data": {
      "image/png": "[encoded data removed]",
      "text/plain": [
       "<Figure size 288x288 with 1 Axes>"
      ]
     },
     "metadata": {
      "needs_background": "light"
     },
     "output_type": "display_data"
    },
    {
     "name": "stdout",
     "output_type": "stream",
     "text": [
      "\n",
      "\n"
     ]
    }
   ],
   "source": [
    "part4_4(x_new, y_new, 60)"
   ]
  },
  {
   "cell_type": "code",
   "execution_count": 83,
   "metadata": {
    "colab": {
     "base_uri": "https://localhost:8080/",
     "height": 725
    },
    "executionInfo": {
     "elapsed": 541,
     "status": "ok",
     "timestamp": 1668727651379,
     "user": {
      "displayName": "Jun Park",
      "userId": "10551472248204904453"
     },
     "user_tz": 300
    },
    "id": "KqF4azvAvGcE",
    "outputId": "e6f95b05-e017-4c13-d820-e666ecaf944f"
   },
   "outputs": [
    {
     "name": "stdout",
     "output_type": "stream",
     "text": [
      "Dim of Full Eigen Vectors (784, 314)\n",
      "Number of useful eigenBasis are:  148\n",
      "\n",
      "\n",
      "Label is: Sandal\n",
      "Showing Random Image from dataset\n"
     ]
    },
    {
     "data": {
      "image/png": "[encoded data removed]",
      "text/plain": [
       "<Figure size 432x288 with 1 Axes>"
      ]
     },
     "metadata": {
      "needs_background": "light"
     },
     "output_type": "display_data"
    },
    {
     "name": "stdout",
     "output_type": "stream",
     "text": [
      "\n",
      "\n",
      "Showing Reconstructed Image using 80 Principle Components\n"
     ]
    },
    {
     "data": {
      "image/png": "[encoded data removed]",
      "text/plain": [
       "<Figure size 288x288 with 1 Axes>"
      ]
     },
     "metadata": {
      "needs_background": "light"
     },
     "output_type": "display_data"
    },
    {
     "name": "stdout",
     "output_type": "stream",
     "text": [
      "\n",
      "\n"
     ]
    }
   ],
   "source": [
    "part4_4(x_new, y_new, 80)"
   ]
  },
  {
   "cell_type": "code",
   "execution_count": 84,
   "metadata": {
    "colab": {
     "base_uri": "https://localhost:8080/",
     "height": 725
    },
    "executionInfo": {
     "elapsed": 489,
     "status": "ok",
     "timestamp": 1668727651867,
     "user": {
      "displayName": "Jun Park",
      "userId": "10551472248204904453"
     },
     "user_tz": 300
    },
    "id": "4jt0QypxvGaE",
    "outputId": "f7442e1e-7690-4d84-bec3-8190ccab9423"
   },
   "outputs": [
    {
     "name": "stdout",
     "output_type": "stream",
     "text": [
      "Dim of Full Eigen Vectors (784, 314)\n",
      "Number of useful eigenBasis are:  148\n",
      "\n",
      "\n",
      "Label is: Sandal\n",
      "Showing Random Image from dataset\n"
     ]
    },
    {
     "data": {
      "image/png": "[encoded data removed]",
      "text/plain": [
       "<Figure size 432x288 with 1 Axes>"
      ]
     },
     "metadata": {
      "needs_background": "light"
     },
     "output_type": "display_data"
    },
    {
     "name": "stdout",
     "output_type": "stream",
     "text": [
      "\n",
      "\n",
      "Showing Reconstructed Image using 100 Principle Components\n"
     ]
    },
    {
     "data": {
      "image/png": "[encoded data removed]",
      "text/plain": [
       "<Figure size 288x288 with 1 Axes>"
      ]
     },
     "metadata": {
      "needs_background": "light"
     },
     "output_type": "display_data"
    },
    {
     "name": "stdout",
     "output_type": "stream",
     "text": [
      "\n",
      "\n"
     ]
    }
   ],
   "source": [
    "part4_4(x_new, y_new, 100)"
   ]
  },
  {
   "cell_type": "code",
   "execution_count": 85,
   "metadata": {
    "colab": {
     "base_uri": "https://localhost:8080/",
     "height": 725
    },
    "executionInfo": {
     "elapsed": 588,
     "status": "ok",
     "timestamp": 1668727652453,
     "user": {
      "displayName": "Jun Park",
      "userId": "10551472248204904453"
     },
     "user_tz": 300
    },
    "id": "LqvEVaZwvGYH",
    "outputId": "0ca24610-87cc-4e6b-909d-38eab887dee0"
   },
   "outputs": [
    {
     "name": "stdout",
     "output_type": "stream",
     "text": [
      "Dim of Full Eigen Vectors (784, 314)\n",
      "Number of useful eigenBasis are:  148\n",
      "\n",
      "\n",
      "Label is: Sandal\n",
      "Showing Random Image from dataset\n"
     ]
    },
    {
     "data": {
      "image/png": "[encoded data removed]",
      "text/plain": [
       "<Figure size 432x288 with 1 Axes>"
      ]
     },
     "metadata": {
      "needs_background": "light"
     },
     "output_type": "display_data"
    },
    {
     "name": "stdout",
     "output_type": "stream",
     "text": [
      "\n",
      "\n",
      "Showing Reconstructed Image using 120 Principle Components\n"
     ]
    },
    {
     "data": {
      "image/png": "[encoded data removed]",
      "text/plain": [
       "<Figure size 288x288 with 1 Axes>"
      ]
     },
     "metadata": {
      "needs_background": "light"
     },
     "output_type": "display_data"
    },
    {
     "name": "stdout",
     "output_type": "stream",
     "text": [
      "\n",
      "\n"
     ]
    }
   ],
   "source": [
    "part4_4(x_new, y_new, 120)"
   ]
  },
  {
   "cell_type": "code",
   "execution_count": 86,
   "metadata": {
    "colab": {
     "base_uri": "https://localhost:8080/",
     "height": 725
    },
    "executionInfo": {
     "elapsed": 516,
     "status": "ok",
     "timestamp": 1668727652968,
     "user": {
      "displayName": "Jun Park",
      "userId": "10551472248204904453"
     },
     "user_tz": 300
    },
    "id": "dm3zDYqEvGWL",
    "outputId": "311042e7-421b-4ffa-ffab-187f751447a8"
   },
   "outputs": [
    {
     "name": "stdout",
     "output_type": "stream",
     "text": [
      "Dim of Full Eigen Vectors (784, 314)\n",
      "Number of useful eigenBasis are:  148\n",
      "\n",
      "\n",
      "Label is: Ankle boot\n",
      "Showing Random Image from dataset\n"
     ]
    },
    {
     "data": {
      "image/png": "[encoded data removed]",
      "text/plain": [
       "<Figure size 432x288 with 1 Axes>"
      ]
     },
     "metadata": {
      "needs_background": "light"
     },
     "output_type": "display_data"
    },
    {
     "name": "stdout",
     "output_type": "stream",
     "text": [
      "\n",
      "\n",
      "Showing Reconstructed Image using 140 Principle Components\n"
     ]
    },
    {
     "data": {
      "image/png": "[encoded data removed]",
      "text/plain": [
       "<Figure size 288x288 with 1 Axes>"
      ]
     },
     "metadata": {
      "needs_background": "light"
     },
     "output_type": "display_data"
    },
    {
     "name": "stdout",
     "output_type": "stream",
     "text": [
      "\n",
      "\n"
     ]
    }
   ],
   "source": [
    "part4_4(x_new, y_new, 140)"
   ]
  },
  {
   "cell_type": "code",
   "execution_count": 87,
   "metadata": {
    "colab": {
     "base_uri": "https://localhost:8080/",
     "height": 725
    },
    "executionInfo": {
     "elapsed": 491,
     "status": "ok",
     "timestamp": 1668727653458,
     "user": {
      "displayName": "Jun Park",
      "userId": "10551472248204904453"
     },
     "user_tz": 300
    },
    "id": "bwcomr39vGUC",
    "outputId": "0f392583-6293-424e-b7bf-aee709a3abfa"
   },
   "outputs": [
    {
     "name": "stdout",
     "output_type": "stream",
     "text": [
      "Dim of Full Eigen Vectors (784, 314)\n",
      "Number of useful eigenBasis are:  148\n",
      "\n",
      "\n",
      "Label is: Sneaker\n",
      "Showing Random Image from dataset\n"
     ]
    },
    {
     "data": {
      "image/png": "[encoded data removed]",
      "text/plain": [
       "<Figure size 432x288 with 1 Axes>"
      ]
     },
     "metadata": {
      "needs_background": "light"
     },
     "output_type": "display_data"
    },
    {
     "name": "stdout",
     "output_type": "stream",
     "text": [
      "\n",
      "\n",
      "Showing Reconstructed Image using 148 Principle Components\n"
     ]
    },
    {
     "data": {
      "image/png": "[encoded data removed]",
      "text/plain": [
       "<Figure size 288x288 with 1 Axes>"
      ]
     },
     "metadata": {
      "needs_background": "light"
     },
     "output_type": "display_data"
    },
    {
     "name": "stdout",
     "output_type": "stream",
     "text": [
      "\n",
      "\n"
     ]
    }
   ],
   "source": [
    "part4_4(x_new, y_new, 148)"
   ]
  },
  {
   "cell_type": "code",
   "execution_count": 88,
   "metadata": {
    "colab": {
     "base_uri": "https://localhost:8080/",
     "height": 725
    },
    "executionInfo": {
     "elapsed": 406,
     "status": "ok",
     "timestamp": 1668727653862,
     "user": {
      "displayName": "Jun Park",
      "userId": "10551472248204904453"
     },
     "user_tz": 300
    },
    "id": "QliLCbjc-gOM",
    "outputId": "0fd3ed8a-c539-44c6-84af-b7fbee126820"
   },
   "outputs": [
    {
     "name": "stdout",
     "output_type": "stream",
     "text": [
      "Dim of Full Eigen Vectors (784, 314)\n",
      "Number of useful eigenBasis are:  148\n",
      "\n",
      "\n",
      "Label is: Sandal\n",
      "Showing Random Image from dataset\n"
     ]
    },
    {
     "data": {
      "image/png": "[encoded data removed]",
      "text/plain": [
       "<Figure size 432x288 with 1 Axes>"
      ]
     },
     "metadata": {
      "needs_background": "light"
     },
     "output_type": "display_data"
    },
    {
     "name": "stdout",
     "output_type": "stream",
     "text": [
      "\n",
      "\n",
      "Showing Reconstructed Image using 180 Principle Components\n"
     ]
    },
    {
     "data": {
      "image/png": "[encoded data removed]",
      "text/plain": [
       "<Figure size 288x288 with 1 Axes>"
      ]
     },
     "metadata": {
      "needs_background": "light"
     },
     "output_type": "display_data"
    },
    {
     "name": "stdout",
     "output_type": "stream",
     "text": [
      "\n",
      "\n"
     ]
    }
   ],
   "source": [
    "part4_4(x_new, y_new, 180)"
   ]
  },
  {
   "cell_type": "code",
   "execution_count": 89,
   "metadata": {
    "colab": {
     "base_uri": "https://localhost:8080/",
     "height": 725
    },
    "executionInfo": {
     "elapsed": 312,
     "status": "ok",
     "timestamp": 1668727654172,
     "user": {
      "displayName": "Jun Park",
      "userId": "10551472248204904453"
     },
     "user_tz": 300
    },
    "id": "e63DxKxj-ixT",
    "outputId": "394fd1d3-d8a2-4578-a93c-b66028b54b32"
   },
   "outputs": [
    {
     "name": "stdout",
     "output_type": "stream",
     "text": [
      "Dim of Full Eigen Vectors (784, 314)\n",
      "Number of useful eigenBasis are:  148\n",
      "\n",
      "\n",
      "Label is: Sneaker\n",
      "Showing Random Image from dataset\n"
     ]
    },
    {
     "data": {
      "image/png": "[encoded data removed]",
      "text/plain": [
       "<Figure size 432x288 with 1 Axes>"
      ]
     },
     "metadata": {
      "needs_background": "light"
     },
     "output_type": "display_data"
    },
    {
     "name": "stdout",
     "output_type": "stream",
     "text": [
      "\n",
      "\n",
      "Showing Reconstructed Image using 250 Principle Components\n"
     ]
    },
    {
     "data": {
      "image/png": "[encoded data removed]",
      "text/plain": [
       "<Figure size 288x288 with 1 Axes>"
      ]
     },
     "metadata": {
      "needs_background": "light"
     },
     "output_type": "display_data"
    },
    {
     "name": "stdout",
     "output_type": "stream",
     "text": [
      "\n",
      "\n"
     ]
    }
   ],
   "source": [
    "part4_4(x_new, y_new, 250)"
   ]
  },
  {
   "cell_type": "markdown",
   "metadata": {},
   "source": [
    "\n",
    "Above, I have run my function several times, varying the value of n (reconstruction with the first n-th principle components). \n",
    "I have tested with n = 1, 10, 40, 60, 80, 100, 120, 140, 148, 180, and 250. \n",
    "It can be observed that as n gets closer to 148, the number of useful eigenBasis, the image becomes close to identical to\n",
    "the actual randomly selected image. If n is below roughly around 80, the reconstructed image looks not too similar to the original\n",
    "item for human to identify correctly. Starting from n value around 80 to 100, it becomes more distinguishable for human to\n",
    "classify if the item is a sandal, a sneaker, or an ankle boot. After reaching n = 148, increasing the value of n does not greatly\n",
    "help in terms of improving the quality of the image for identification. Therefore, n = 148 is enough to clearly identify \n",
    "the item with human eyes. "
   ]
  },
  {
   "cell_type": "markdown",
   "metadata": {
    "id": "frkAmWiHzkaF"
   },
   "source": [
    "## Part 6"
   ]
  },
  {
   "cell_type": "markdown",
   "metadata": {},
   "source": [
    "Assume you want to share this dataset with someone else. Instead of directly giving them the whole dataset, \n",
    "you can share the eigenvectors (some of them) and projections with them, and thay can do a dot product to get the reconstructions. \n",
    "Based on the number of components that you found in the last step, what would be the compression ratio for a dataset with 1000 images?\n"
   ]
  },
  {
   "cell_type": "code",
   "execution_count": 1,
   "metadata": {
    "executionInfo": {
     "elapsed": 104,
     "status": "ok",
     "timestamp": 1668727990178,
     "user": {
      "displayName": "Jun Park",
      "userId": "10551472248204904453"
     },
     "user_tz": 300
    },
    "id": "qY64PTLBvGR1"
   },
   "outputs": [],
   "source": [
    "# Response:\n",
    "\n",
    "# From the previous step (Part 4.5), we determined that the first 148 principle components are needed to get the ideal reconstruction. \n",
    "\n",
    "# Our dataset X has 1000 samples (images) and 784 features (columns). Hence X: (1000, 784)\n",
    "# Total Elements = 784,000\n",
    "\n",
    "# If we apply PCA, we get W: (784, 784)\n",
    "# Since we determined 148 PCs are enough: W_op: (784, 148)\n",
    "# Apply Projection: X @ W_op = Proj: (1000, 148)\n",
    "# Now data is summarized in Proj (1000, 148) and W_op: (784, 148)  ==>  Total elements: 264,032\n",
    "\n",
    "# Therefore, compression ratio = 784,000 / 264,032 ~ 3X\n",
    "\n",
    "# The compression ratio is roughly 3 if 148 principle components are needed. \n"
   ]
  },
  {
   "cell_type": "markdown",
   "metadata": {
    "id": "7rKZXBodwA5P"
   },
   "source": [
    "# References"
   ]
  },
  {
   "cell_type": "markdown",
   "metadata": {
    "id": "PA-T9S4RwA5P"
   },
   "source": [
    "Understanding PCA and SVD:\n",
    "\n",
    "1. https://towardsdatascience.com/pca-and-svd-explained-with-numpy-5d13b0d2a4d8\n",
    "\n",
    "2. https://stats.stackexchange.com/questions/134282/relationship-between-svd-and-pca-how-to-use-svd-to-perform-pca\n",
    "\n",
    "3. https://stats.stackexchange.com/questions/2691/making-sense-of-principal-component-analysis-eigenvectors-eigenvalues\n",
    "\n",
    "4. https://hadrienj.github.io/posts/Deep-Learning-Book-Series-2.8-Singular-Value-Decomposition/\n",
    "\n",
    "PCA:\n",
    "\n",
    "1. Snippets from: https://plot.ly/ipython-notebooks/principal-component-analysis/\n",
    "\n",
    "2. https://www.value-at-risk.net/principal-component-analysis/\n",
    "\n",
    "Covid Data:\n",
    "\n",
    "1. https://www.worldometers.info/coronavirus/\n",
    "\n",
    "2. https://datahub.io/core/covid-19#resource-time-series-19-covid-combined\n",
    "\n"
   ]
  }
 ],
 "metadata": {
  "accelerator": "GPU",
  "colab": {
   "provenance": []
  },
  "gpuClass": "standard",
  "interpreter": {
   "hash": "427dbe4e51b5387b95f6713934d34ee99dc52ee933d986e8e9d62b7e183bbc53"
  },
  "kernelspec": {
   "display_name": "Python 3",
   "language": "python",
   "name": "python3"
  },
  "language_info": {
   "codemirror_mode": {
    "name": "ipython",
    "version": 3
   },
   "file_extension": ".py",
   "mimetype": "text/x-python",
   "name": "python",
   "nbconvert_exporter": "python",
   "pygments_lexer": "ipython3",
   "version": "3.8.5"
  }
 },
 "nbformat": 4,
 "nbformat_minor": 1
}
